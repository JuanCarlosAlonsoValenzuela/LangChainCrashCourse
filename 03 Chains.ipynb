{
 "cells": [
  {
   "cell_type": "markdown",
   "id": "48120213-366f-44a8-9edd-cc178ae05c6f",
   "metadata": {},
   "source": [
    "# CHAINS\n",
    "**TODO:** Replace deprecated code."
   ]
  },
  {
   "cell_type": "code",
   "execution_count": 1,
   "id": "d26f712c-8a94-4d1f-a027-24aaafe07d2f",
   "metadata": {},
   "outputs": [],
   "source": [
    "import os\n",
    "import pandas as pd"
   ]
  },
  {
   "cell_type": "code",
   "execution_count": 2,
   "id": "f6644605-9125-4262-8713-e35f6f98101a",
   "metadata": {},
   "outputs": [],
   "source": [
    "df = pd.read_csv(\"resources/data_chains.csv\")"
   ]
  },
  {
   "cell_type": "code",
   "execution_count": 3,
   "id": "fd7ef5a4-6652-4039-97b3-9538bd07395a",
   "metadata": {},
   "outputs": [
    {
     "data": {
      "text/html": [
       "<div>\n",
       "<style scoped>\n",
       "    .dataframe tbody tr th:only-of-type {\n",
       "        vertical-align: middle;\n",
       "    }\n",
       "\n",
       "    .dataframe tbody tr th {\n",
       "        vertical-align: top;\n",
       "    }\n",
       "\n",
       "    .dataframe thead th {\n",
       "        text-align: right;\n",
       "    }\n",
       "</style>\n",
       "<table border=\"1\" class=\"dataframe\">\n",
       "  <thead>\n",
       "    <tr style=\"text-align: right;\">\n",
       "      <th></th>\n",
       "      <th>Product</th>\n",
       "      <th>Review</th>\n",
       "    </tr>\n",
       "  </thead>\n",
       "  <tbody>\n",
       "    <tr>\n",
       "      <th>0</th>\n",
       "      <td>Queen Size Sheet Set</td>\n",
       "      <td>I ordered a king size set. My only criticism w...</td>\n",
       "    </tr>\n",
       "    <tr>\n",
       "      <th>1</th>\n",
       "      <td>Waterproof Phone Pouch</td>\n",
       "      <td>I loved the waterproof sac, although the openi...</td>\n",
       "    </tr>\n",
       "    <tr>\n",
       "      <th>2</th>\n",
       "      <td>Luxury Air Mattress</td>\n",
       "      <td>This mattress had a small hole in the top of i...</td>\n",
       "    </tr>\n",
       "    <tr>\n",
       "      <th>3</th>\n",
       "      <td>Pillows Insert</td>\n",
       "      <td>This is the best throw pillow fillers on Amazo...</td>\n",
       "    </tr>\n",
       "    <tr>\n",
       "      <th>4</th>\n",
       "      <td>Milk Frother Handheld</td>\n",
       "      <td>I loved this product. But they only seem to la...</td>\n",
       "    </tr>\n",
       "    <tr>\n",
       "      <th>5</th>\n",
       "      <td>L'Or Espresso Café</td>\n",
       "      <td>Je trouve le goût médiocre. La mousse ne tient...</td>\n",
       "    </tr>\n",
       "    <tr>\n",
       "      <th>6</th>\n",
       "      <td>Hervidor de Agua Eléctrico</td>\n",
       "      <td>Está lu bonita calienta muy rápido, es muy fun...</td>\n",
       "    </tr>\n",
       "  </tbody>\n",
       "</table>\n",
       "</div>"
      ],
      "text/plain": [
       "                      Product  \\\n",
       "0        Queen Size Sheet Set   \n",
       "1      Waterproof Phone Pouch   \n",
       "2         Luxury Air Mattress   \n",
       "3              Pillows Insert   \n",
       "4       Milk Frother Handheld   \n",
       "5          L'Or Espresso Café   \n",
       "6  Hervidor de Agua Eléctrico   \n",
       "\n",
       "                                              Review  \n",
       "0  I ordered a king size set. My only criticism w...  \n",
       "1  I loved the waterproof sac, although the openi...  \n",
       "2  This mattress had a small hole in the top of i...  \n",
       "3  This is the best throw pillow fillers on Amazo...  \n",
       "4  I loved this product. But they only seem to la...  \n",
       "5  Je trouve le goût médiocre. La mousse ne tient...  \n",
       "6  Está lu bonita calienta muy rápido, es muy fun...  "
      ]
     },
     "execution_count": 3,
     "metadata": {},
     "output_type": "execute_result"
    }
   ],
   "source": [
    "df.head(10)"
   ]
  },
  {
   "cell_type": "markdown",
   "id": "0537b29d-1f3b-440e-bea1-a081e5b36817",
   "metadata": {},
   "source": [
    "## 1.- LLM Chain"
   ]
  },
  {
   "cell_type": "code",
   "execution_count": 4,
   "id": "b74f4a1b-77f6-4ac5-baff-4d552b6783e6",
   "metadata": {},
   "outputs": [],
   "source": [
    "from langchain.chat_models import ChatOpenAI\n",
    "from langchain.prompts import ChatPromptTemplate\n",
    "from langchain.chains import LLMChain"
   ]
  },
  {
   "cell_type": "code",
   "execution_count": 5,
   "id": "670c0d5d-3846-4c85-8ecd-909c8b2e66bd",
   "metadata": {},
   "outputs": [
    {
     "name": "stderr",
     "output_type": "stream",
     "text": [
      "C:\\Users\\jcav\\AppData\\Local\\Temp\\ipykernel_42632\\392081221.py:2: LangChainDeprecationWarning: The class `ChatOpenAI` was deprecated in LangChain 0.0.10 and will be removed in 1.0. An updated version of the class exists in the :class:`~langchain-openai package and should be used instead. To use it run `pip install -U :class:`~langchain-openai` and import as `from :class:`~langchain_openai import ChatOpenAI``.\n",
      "  llm = ChatOpenAI(temperature=0.9, api_key=os.environ[\"OPENAI_KEY\"])\n"
     ]
    }
   ],
   "source": [
    "# Initialize LLM\n",
    "llm = ChatOpenAI(temperature=0.9, api_key=os.environ[\"OPENAI_KEY\"])"
   ]
  },
  {
   "cell_type": "code",
   "execution_count": 6,
   "id": "04407f49-aae9-4c57-958a-75baa46c98a8",
   "metadata": {},
   "outputs": [],
   "source": [
    "# Create prompt template\n",
    "prompt = ChatPromptTemplate.from_template(\"What is the best name to describe a company that makes {product}?\") "
   ]
  },
  {
   "cell_type": "code",
   "execution_count": 7,
   "id": "066dee0a-6321-410c-859e-a6a801d18da4",
   "metadata": {},
   "outputs": [
    {
     "name": "stderr",
     "output_type": "stream",
     "text": [
      "C:\\Users\\jcav\\AppData\\Local\\Temp\\ipykernel_42632\\573891551.py:2: LangChainDeprecationWarning: The class `LLMChain` was deprecated in LangChain 0.1.17 and will be removed in 1.0. Use :meth:`~RunnableSequence, e.g., `prompt | llm`` instead.\n",
      "  chain = LLMChain(llm=llm, prompt=prompt) # Deprecated\n"
     ]
    }
   ],
   "source": [
    "# Create chain\n",
    "chain = LLMChain(llm=llm, prompt=prompt) # Deprecated"
   ]
  },
  {
   "cell_type": "code",
   "execution_count": 8,
   "id": "7fa3a6d7-a6e7-406b-86ab-cceaf2003a18",
   "metadata": {},
   "outputs": [
    {
     "name": "stderr",
     "output_type": "stream",
     "text": [
      "C:\\Users\\jcav\\AppData\\Local\\Temp\\ipykernel_42632\\3167731583.py:2: LangChainDeprecationWarning: The method `Chain.run` was deprecated in langchain 0.1.0 and will be removed in 1.0. Use :meth:`~invoke` instead.\n",
      "  chain.run(product) # Deprecated\n"
     ]
    },
    {
     "data": {
      "text/plain": [
       "'\"Royal Linens\"'"
      ]
     },
     "execution_count": 8,
     "metadata": {},
     "output_type": "execute_result"
    }
   ],
   "source": [
    "product = \"Queen size Sheet set\"\n",
    "chain.run(product) # Deprecated"
   ]
  },
  {
   "cell_type": "markdown",
   "id": "7730ccd8-76b6-4408-a6b1-a4baba6923a1",
   "metadata": {},
   "source": [
    "# 2.- Sequential chains\n",
    "Sequential chain is another type of change. The idea is to combine multiple chains where the output of one chain is the input of the next chain. \n",
    "\n",
    "There are two types of sequential chains:\n",
    "1. `SimpleSequentialChain`: Single input/output\n",
    "2. `SequentialChain`: inputs/outputs"
   ]
  },
  {
   "cell_type": "markdown",
   "id": "6083d436-d871-413f-a247-9fd59652e0c0",
   "metadata": {},
   "source": [
    "### 2.1.- SimpleSequentialChain"
   ]
  },
  {
   "cell_type": "code",
   "execution_count": 9,
   "id": "e9cd4c98-4c55-48e5-89e7-c62336c008f5",
   "metadata": {},
   "outputs": [],
   "source": [
    "from langchain.chains import SimpleSequentialChain"
   ]
  },
  {
   "cell_type": "code",
   "execution_count": 10,
   "id": "3d064f2f-a643-4848-8480-a24f3624ab83",
   "metadata": {},
   "outputs": [],
   "source": [
    "llm = ChatOpenAI(temperature=0.9, api_key=os.environ[\"OPENAI_KEY\"])\n",
    "\n",
    "# Prompt template 1\n",
    "first_prompt = ChatPromptTemplate.from_template(\n",
    "    \"What is the best name to describe \\\n",
    "    a company that makes {product}?\"\n",
    ")\n",
    "\n",
    "# Chain 1\n",
    "chain_one = LLMChain(llm=llm, prompt=first_prompt)"
   ]
  },
  {
   "cell_type": "code",
   "execution_count": 11,
   "id": "a8924832-315a-4784-a641-2048fc67723d",
   "metadata": {},
   "outputs": [],
   "source": [
    "# Prompt template 2\n",
    "second_prompt = ChatPromptTemplate.from_template(\n",
    "    \"Write a 20 words description for the following \\\n",
    "    company:{company_name}\"\n",
    ")\n",
    "\n",
    "# Chain 2\n",
    "chain_two = LLMChain(llm=llm, prompt=second_prompt)"
   ]
  },
  {
   "cell_type": "code",
   "execution_count": 12,
   "id": "999c4364-0673-44d3-92ac-322a801a3346",
   "metadata": {},
   "outputs": [],
   "source": [
    "overall_simple_chain = SimpleSequentialChain(chains=[chain_one, chain_two], verbose=True)"
   ]
  },
  {
   "cell_type": "code",
   "execution_count": 13,
   "id": "446245e1-ad6a-4fb0-8d47-860e249e323d",
   "metadata": {},
   "outputs": [
    {
     "name": "stdout",
     "output_type": "stream",
     "text": [
      "\n",
      "\n",
      "\u001b[1m> Entering new SimpleSequentialChain chain...\u001b[0m\n",
      "\u001b[36;1m\u001b[1;3m\"Royal Comfort Co.\"\u001b[0m\n",
      "\u001b[33;1m\u001b[1;3mRoyal Comfort Co. specializes in luxurious bedding and home essentials, providing high-quality products for a restful and stylish living space.\u001b[0m\n",
      "\n",
      "\u001b[1m> Finished chain.\u001b[0m\n"
     ]
    },
    {
     "data": {
      "text/plain": [
       "'Royal Comfort Co. specializes in luxurious bedding and home essentials, providing high-quality products for a restful and stylish living space.'"
      ]
     },
     "execution_count": 13,
     "metadata": {},
     "output_type": "execute_result"
    }
   ],
   "source": [
    "overall_simple_chain.run(product)"
   ]
  },
  {
   "cell_type": "markdown",
   "id": "2f6f89f0-70f5-4027-a0c7-6f5b76c0a87a",
   "metadata": {},
   "source": [
    "This chain works well when there is a single input and ouput, but we need an alternative when there are multiple inputs and outputs."
   ]
  },
  {
   "cell_type": "markdown",
   "id": "59b12973-c998-4dfb-88d4-215d6d189024",
   "metadata": {},
   "source": [
    "### 2.2.- SequentialChain"
   ]
  },
  {
   "cell_type": "code",
   "execution_count": 14,
   "id": "2a97aaff-230d-4bed-9940-207baea6a9a1",
   "metadata": {},
   "outputs": [],
   "source": [
    "from langchain.chains import SequentialChain"
   ]
  },
  {
   "cell_type": "code",
   "execution_count": 15,
   "id": "dfcdf768-a047-4f51-ba2b-46ce7847b69d",
   "metadata": {},
   "outputs": [],
   "source": [
    "llm = ChatOpenAI(temperature=0.9, api_key=os.environ[\"OPENAI_KEY\"])"
   ]
  },
  {
   "cell_type": "code",
   "execution_count": 16,
   "id": "91a4ffa2-647f-4136-b810-2969a161d391",
   "metadata": {},
   "outputs": [],
   "source": [
    "# Prompt template 1: translate to english\n",
    "first_prompt = ChatPromptTemplate.from_template(\"Translate the following review to english: \\n\\n{review}\")\n",
    "\n",
    "# chain 1, indicate the name of the output\n",
    "chain_one = LLMChain(llm=llm, prompt=first_prompt, output_key=\"english_review\")"
   ]
  },
  {
   "cell_type": "code",
   "execution_count": 17,
   "id": "17ebacf5-0ec5-47d1-8cbb-32596586bf95",
   "metadata": {},
   "outputs": [],
   "source": [
    "# Prompt template 2: Summarize text\n",
    "second_prompt = ChatPromptTemplate.from_template(\"Can you summarize the following review in 1 sentence?: \\n\\n{english_review}\")\n",
    "\n",
    "# chain 2: indicate the output\n",
    "chain_two = LLMChain(llm=llm, prompt=second_prompt, output_key=\"summary\")"
   ]
  },
  {
   "cell_type": "code",
   "execution_count": 18,
   "id": "56297d3f-294e-417b-84d7-24d016937260",
   "metadata": {},
   "outputs": [],
   "source": [
    "# Prompt template 3: Detect language\n",
    "third_prompt = ChatPromptTemplate.from_template(\"What language is the following review:\\n\\n{review}\")\n",
    "\n",
    "# chain 3: outputs the language\n",
    "chain_three = LLMChain(llm=llm, prompt=third_prompt, output_key=\"language\")"
   ]
  },
  {
   "cell_type": "code",
   "execution_count": 19,
   "id": "0e3d33ae-20bb-42fd-8ec4-7a11378eb8b9",
   "metadata": {},
   "outputs": [],
   "source": [
    "# Prompt template 4: Write a follow up message\n",
    "fourth_prompt = ChatPromptTemplate.from_template(\n",
    "    \"Write a follow up response to the following summary in the specified language: \\n\\nSummary: {summary}\\n\\nLanguage: {language}\"\n",
    ")\n",
    "\n",
    "# chain 4: outputs the follow up message\n",
    "chain_four = LLMChain(llm=llm, prompt=fourth_prompt, output_key=\"followup_message\")"
   ]
  },
  {
   "cell_type": "code",
   "execution_count": 20,
   "id": "5295515a-6018-44fa-b43d-bf44ac851efd",
   "metadata": {},
   "outputs": [],
   "source": [
    "# Create the overall chain\n",
    "# input: review\n",
    "# output: english_review, summary, language, followup_message\n",
    "overall_chain = SequentialChain(\n",
    "    chains=[chain_one, chain_two, chain_three, chain_four],\n",
    "    input_variables=[\"review\"],\n",
    "    output_variables=[\"english_review\", \"summary\", \"followup_message\"],\n",
    "    verbose=True\n",
    ")"
   ]
  },
  {
   "cell_type": "code",
   "execution_count": 21,
   "id": "011f1bab-8d44-4f13-9592-fb0214bb1125",
   "metadata": {},
   "outputs": [
    {
     "name": "stdout",
     "output_type": "stream",
     "text": [
      "\n",
      "\n",
      "\u001b[1m> Entering new SequentialChain chain...\u001b[0m\n",
      "\n",
      "\u001b[1m> Finished chain.\u001b[0m\n"
     ]
    },
    {
     "data": {
      "text/plain": [
       "{'review': \"Je trouve le goût médiocre. La mousse ne tient pas, c'est bizarre. J'achète les mêmes dans le commerce et le goût est bien meilleur... Vieux lot ou contrefaçon !?\",\n",
       " 'english_review': \"I find the taste mediocre. The foam doesn't hold, it's weird. I buy the same ones in stores and the taste is much better... Old batch or counterfeit!?\",\n",
       " 'summary': 'The reviewer finds the taste of the product mediocre and suspects it may be an old batch or counterfeit.',\n",
       " 'followup_message': \"Merci pour votre avis honnête. Nous sommes désolés d'apprendre que vous n'avez pas été satisfait du goût du produit. Nous prenons vos préoccupations au sérieux et allons enquêter pour nous assurer que nos produits sont toujours frais et authentiques. Espérons que nous pourrons regagner votre confiance à l'avenir. Merci de nous avoir informés de cette situation.\"}"
      ]
     },
     "execution_count": 21,
     "metadata": {},
     "output_type": "execute_result"
    }
   ],
   "source": [
    "review = df.Review[5]\n",
    "\n",
    "overall_chain.invoke(review)"
   ]
  },
  {
   "cell_type": "markdown",
   "id": "2bf93e6b-3d14-4be4-a2ac-833193a8ef61",
   "metadata": {},
   "source": [
    "## 3.- RouterChain\n",
    "Directing an input to a chain or another depending on what exactly that input is."
   ]
  },
  {
   "cell_type": "code",
   "execution_count": 22,
   "id": "58a6f531-8c31-4ec9-966b-4bd295a1bfb9",
   "metadata": {},
   "outputs": [],
   "source": [
    "physics_template = \"\"\"You are a very smart physics professor. \\\n",
    "You are great at answering questions about physics in a concise\\\n",
    "and easy to understand manner. \\\n",
    "When you don't know the answer to a question you admit\\\n",
    "that you don't know.\n",
    "\n",
    "Here is a question:\n",
    "{input}\"\"\"\n",
    "\n",
    "\n",
    "math_template = \"\"\"You are a very good mathematician. \\\n",
    "You are great at answering math questions. \\\n",
    "You are so good because you are able to break down \\\n",
    "hard problems into their component parts, \n",
    "answer the component parts, and then put them together\\\n",
    "to answer the broader question.\n",
    "\n",
    "Here is a question:\n",
    "{input}\"\"\"\n",
    "\n",
    "history_template = \"\"\"You are a very good historian. \\\n",
    "You have an excellent knowledge of and understanding of people,\\\n",
    "events and contexts from a range of historical periods. \\\n",
    "You have the ability to think, reflect, debate, discuss and \\\n",
    "evaluate the past. You have a respect for historical evidence\\\n",
    "and the ability to make use of it to support your explanations \\\n",
    "and judgements.\n",
    "\n",
    "Here is a question:\n",
    "{input}\"\"\"\n",
    "\n",
    "\n",
    "computerscience_template = \"\"\" You are a successful computer scientist.\\\n",
    "You have a passion for creativity, collaboration,\\\n",
    "forward-thinking, confidence, strong problem-solving capabilities,\\\n",
    "understanding of theories and algorithms, and excellent communication \\\n",
    "skills. You are great at answering coding questions. \\\n",
    "You are so good because you know how to solve a problem by \\\n",
    "describing the solution in imperative steps \\\n",
    "that a machine can easily interpret and you know how to \\\n",
    "choose a solution that has a good balance between \\\n",
    "time complexity and space complexity. \n",
    "\n",
    "Here is a question:\n",
    "{input}\"\"\""
   ]
  },
  {
   "cell_type": "code",
   "execution_count": 23,
   "id": "e7e497a5-d860-476e-8f7f-27b68d0c876b",
   "metadata": {},
   "outputs": [],
   "source": [
    "# These descriptions are passed to the router change, so it can decide which chain to use.\n",
    "prompt_infos = [\n",
    "    {\n",
    "        \"name\": \"physics\", \n",
    "        \"description\": \"Good for answering questions about physics\", \n",
    "        \"prompt_template\": physics_template\n",
    "    },\n",
    "    {\n",
    "        \"name\": \"math\", \n",
    "        \"description\": \"Good for answering math questions\", \n",
    "        \"prompt_template\": math_template\n",
    "    },\n",
    "    {\n",
    "        \"name\": \"History\", \n",
    "        \"description\": \"Good for answering history questions\", \n",
    "        \"prompt_template\": history_template\n",
    "    },\n",
    "    {\n",
    "        \"name\": \"computer science\", \n",
    "        \"description\": \"Good for answering computer science questions\", \n",
    "        \"prompt_template\": computerscience_template\n",
    "    }\n",
    "]"
   ]
  },
  {
   "cell_type": "code",
   "execution_count": 24,
   "id": "e0262a0a-c4c0-48fd-af59-a535fb7a28b5",
   "metadata": {},
   "outputs": [],
   "source": [
    "# Used when routing between multiple different prompt templates\n",
    "from langchain.chains.router import MultiPromptChain\n",
    "\n",
    "# LLMRouterChain uses an LLM to route between the different subchains. This is where the description and the name provided above will be used.\n",
    "# RouterOutputParser parses the LLM output into a dictionary that can be used downstream to determine which chain to use and what the input to that chain should be\n",
    "from langchain.chains.router.llm_router import LLMRouterChain, RouterOutputParser\n",
    "\n",
    "\n",
    "from langchain.prompts import PromptTemplate"
   ]
  },
  {
   "cell_type": "code",
   "execution_count": 27,
   "id": "404c5353-795b-4ca1-a308-0bedc6903936",
   "metadata": {},
   "outputs": [],
   "source": [
    "llm = ChatOpenAI(temperature=0.0, api_key=os.environ[\"OPENAI_KEY\"])"
   ]
  },
  {
   "cell_type": "code",
   "execution_count": 28,
   "id": "f3e5689d-a32b-4c31-830f-653786ead833",
   "metadata": {},
   "outputs": [],
   "source": [
    "# Destination chains are the chains that will be called by the router chain\n",
    "# Dictionary where key: chain name, value: corresponding LLMChain\n",
    "destination_chains = {}\n",
    "for p_info in prompt_infos:\n",
    "    name = p_info[\"name\"]\n",
    "    \n",
    "    prompt_template = p_info[\"prompt_template\"]\n",
    "    prompt = ChatPromptTemplate.from_template(template=prompt_template)\n",
    "    \n",
    "    chain = LLMChain(llm=llm, prompt=prompt)\n",
    "    \n",
    "    destination_chains[name] = chain"
   ]
  },
  {
   "cell_type": "code",
   "execution_count": 30,
   "id": "e7150873-d241-47eb-aa85-c0fc5f859a05",
   "metadata": {},
   "outputs": [],
   "source": [
    "destinations = [f\"{p['name']}: {p['description']}\" for p in prompt_infos]\n",
    "destinations_str = \"\\n\".join(destinations)"
   ]
  },
  {
   "cell_type": "code",
   "execution_count": 32,
   "id": "9625cc7b-8f59-4b96-b793-867a0892e355",
   "metadata": {},
   "outputs": [
    {
     "name": "stdout",
     "output_type": "stream",
     "text": [
      "physics: Good for answering questions about physics\n",
      "math: Good for answering math questions\n",
      "History: Good for answering history questions\n",
      "computer science: Good for answering computer science questions\n"
     ]
    }
   ],
   "source": [
    "print(destinations_str)"
   ]
  },
  {
   "cell_type": "code",
   "execution_count": 33,
   "id": "682f44f3-96ce-4ff8-8a24-31e4718fda52",
   "metadata": {},
   "outputs": [],
   "source": [
    "# We also need a default chain. This chain is called when the router cannot decide which of the subchains to use\n",
    "default_prompt = ChatPromptTemplate.from_template(\"{input}\")\n",
    "\n",
    "default_chain = LLMChain(llm=llm, prompt=default_prompt)"
   ]
  },
  {
   "cell_type": "code",
   "execution_count": 35,
   "id": "53e19e6a-a355-4a98-b170-0a00a994f046",
   "metadata": {},
   "outputs": [],
   "source": [
    "MULTI_PROMPT_ROUTER_TEMPLATE = \"\"\"Given a raw text input to a \\\n",
    "language model select the model prompt best suited for the input. \\\n",
    "You will be given the names of the available prompts and a \\\n",
    "description of what the prompt is best suited for. \\\n",
    "You may also revise the original input if you think that revising\\\n",
    "it will ultimately lead to a better response from the language model.\n",
    "\n",
    "<< FORMATTING >>\n",
    "Return a markdown code snippet with a JSON object formatted to look like:\n",
    "```json\n",
    "{{{{\n",
    "    \"destination\": string \\\\ \"DEFAULT\" or name of the prompt to use in {destinations}\n",
    "    \"next_inputs\": string \\\\ a potentially modified version of the original input\n",
    "}}}}\n",
    "```\n",
    "\n",
    "REMEMBER: The value of “destination” MUST match one of \\\n",
    "the candidate prompts listed below.\\\n",
    "If “destination” does not fit any of the specified prompts, set it to “DEFAULT.”\n",
    "REMEMBER: \"next_inputs\" can just be the original input \\\n",
    "if you don't think any modifications are needed.\n",
    "\n",
    "<< CANDIDATE PROMPTS >>\n",
    "{destinations}\n",
    "\n",
    "<< INPUT >>\n",
    "{{input}}\n",
    "\n",
    "<< OUTPUT (remember to include the ```json)>>\"\"\""
   ]
  },
  {
   "cell_type": "code",
   "execution_count": 36,
   "id": "9f4f5648-21a8-43c8-99ba-17c697552c86",
   "metadata": {},
   "outputs": [],
   "source": [
    "router_template = MULTI_PROMPT_ROUTER_TEMPLATE.format(\n",
    "    destinations=destinations_str\n",
    ")\n",
    "\n",
    "router_prompt = PromptTemplate(\n",
    "    template=router_template,\n",
    "    input_variables=[\"input\"],\n",
    "    output_parser=RouterOutputParser()\n",
    ")\n",
    "\n",
    "router_chain = LLMRouterChain.from_llm(llm, router_prompt)"
   ]
  },
  {
   "cell_type": "code",
   "execution_count": 38,
   "id": "ef421e23-cf50-4e5f-ad53-c0f478d034e3",
   "metadata": {},
   "outputs": [],
   "source": [
    "# Create the overall chain\n",
    "chain = MultiPromptChain( # Deprecated\n",
    "    router_chain=router_chain,\n",
    "    destination_chains=destination_chains,\n",
    "    default_chain=default_chain,\n",
    "    verbose=True\n",
    ")"
   ]
  },
  {
   "cell_type": "code",
   "execution_count": 39,
   "id": "a27a0f5d-3990-4fe5-a51f-8e1c1f874721",
   "metadata": {},
   "outputs": [
    {
     "name": "stdout",
     "output_type": "stream",
     "text": [
      "\n",
      "\n",
      "\u001b[1m> Entering new MultiPromptChain chain...\u001b[0m\n",
      "physics: {'input': 'What is black body radiation?'}\n",
      "\u001b[1m> Finished chain.\u001b[0m\n"
     ]
    },
    {
     "data": {
      "text/plain": [
       "\"Black body radiation refers to the electromagnetic radiation emitted by a perfect black body, which is an idealized physical body that absorbs all incident electromagnetic radiation and emits radiation at all frequencies. The radiation emitted by a black body depends only on its temperature and follows a specific distribution known as Planck's law. This type of radiation is important in understanding concepts such as thermal radiation and the behavior of objects at different temperatures.\""
      ]
     },
     "execution_count": 39,
     "metadata": {},
     "output_type": "execute_result"
    }
   ],
   "source": [
    "chain.run(\"What is black body radiation?\")"
   ]
  },
  {
   "cell_type": "code",
   "execution_count": 40,
   "id": "275b9684-06de-4fed-9dd5-4b0984fe6492",
   "metadata": {},
   "outputs": [
    {
     "name": "stdout",
     "output_type": "stream",
     "text": [
      "\n",
      "\n",
      "\u001b[1m> Entering new MultiPromptChain chain...\u001b[0m\n",
      "math: {'input': 'what is 2 + 2'}\n",
      "\u001b[1m> Finished chain.\u001b[0m\n"
     ]
    },
    {
     "data": {
      "text/plain": [
       "'The answer to 2 + 2 is 4.'"
      ]
     },
     "execution_count": 40,
     "metadata": {},
     "output_type": "execute_result"
    }
   ],
   "source": [
    "chain.run(\"what is 2 + 2\")"
   ]
  },
  {
   "cell_type": "code",
   "execution_count": 42,
   "id": "e0d890e1-19e9-4ede-a438-38dd088d2f4e",
   "metadata": {},
   "outputs": [
    {
     "name": "stdout",
     "output_type": "stream",
     "text": [
      "\n",
      "\n",
      "\u001b[1m> Entering new MultiPromptChain chain...\u001b[0m\n",
      "None: {'input': 'Why does every cell in our body contain DNA?'}\n",
      "\u001b[1m> Finished chain.\u001b[0m\n"
     ]
    },
    {
     "data": {
      "text/plain": [
       "'Every cell in our body contains DNA because DNA carries the genetic information that determines the characteristics and functions of an organism. DNA contains the instructions for building and maintaining an organism, including the proteins that are essential for cell function and structure. This genetic information is passed down from parent to offspring and is essential for the growth, development, and functioning of all cells in the body. Having DNA in every cell ensures that the genetic information is preserved and can be used to carry out the necessary processes for life.'"
      ]
     },
     "execution_count": 42,
     "metadata": {},
     "output_type": "execute_result"
    }
   ],
   "source": [
    "chain.run(\"Why does every cell in our body contain DNA?\")"
   ]
  }
 ],
 "metadata": {
  "kernelspec": {
   "display_name": "Python 3 (ipykernel)",
   "language": "python",
   "name": "python3"
  },
  "language_info": {
   "codemirror_mode": {
    "name": "ipython",
    "version": 3
   },
   "file_extension": ".py",
   "mimetype": "text/x-python",
   "name": "python",
   "nbconvert_exporter": "python",
   "pygments_lexer": "ipython3",
   "version": "3.13.5"
  }
 },
 "nbformat": 4,
 "nbformat_minor": 5
}
